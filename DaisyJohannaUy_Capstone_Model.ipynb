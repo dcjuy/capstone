{
  "cells": [
    {
      "cell_type": "markdown",
      "metadata": {
        "id": "8I-ZAjpKUN2o"
      },
      "source": [
        "Daisy Johanna Uy\n",
        "\n",
        "Final Model (Business & Analytics Program)"
      ]
    },
    {
      "cell_type": "markdown",
      "metadata": {
        "id": "xcc3z1-yXXbg"
      },
      "source": [
        "## Import required packages and set global settings"
      ]
    },
    {
      "cell_type": "code",
      "execution_count": null,
      "metadata": {
        "colab": {
          "base_uri": "https://localhost:8080/"
        },
        "id": "4012URP-UJ5a",
        "outputId": "a509f846-2a2b-4b47-edbe-91b4253b7dc4"
      },
      "outputs": [
        {
          "output_type": "stream",
          "name": "stdout",
          "text": [
            "Looking in indexes: https://pypi.org/simple, https://us-python.pkg.dev/colab-wheels/public/simple/\n",
            "Requirement already satisfied: scipy in /usr/local/lib/python3.7/dist-packages (1.7.3)\n",
            "Requirement already satisfied: numpy<1.23.0,>=1.16.5 in /usr/local/lib/python3.7/dist-packages (from scipy) (1.21.6)\n",
            "Looking in indexes: https://pypi.org/simple, https://us-python.pkg.dev/colab-wheels/public/simple/\n",
            "Collecting scikit-plot\n",
            "  Downloading scikit_plot-0.3.7-py3-none-any.whl (33 kB)\n",
            "Requirement already satisfied: scikit-learn>=0.18 in /usr/local/lib/python3.7/dist-packages (from scikit-plot) (1.0.2)\n",
            "Requirement already satisfied: joblib>=0.10 in /usr/local/lib/python3.7/dist-packages (from scikit-plot) (1.1.0)\n",
            "Requirement already satisfied: matplotlib>=1.4.0 in /usr/local/lib/python3.7/dist-packages (from scikit-plot) (3.2.2)\n",
            "Requirement already satisfied: scipy>=0.9 in /usr/local/lib/python3.7/dist-packages (from scikit-plot) (1.7.3)\n",
            "Requirement already satisfied: python-dateutil>=2.1 in /usr/local/lib/python3.7/dist-packages (from matplotlib>=1.4.0->scikit-plot) (2.8.2)\n",
            "Requirement already satisfied: cycler>=0.10 in /usr/local/lib/python3.7/dist-packages (from matplotlib>=1.4.0->scikit-plot) (0.11.0)\n",
            "Requirement already satisfied: pyparsing!=2.0.4,!=2.1.2,!=2.1.6,>=2.0.1 in /usr/local/lib/python3.7/dist-packages (from matplotlib>=1.4.0->scikit-plot) (3.0.9)\n",
            "Requirement already satisfied: numpy>=1.11 in /usr/local/lib/python3.7/dist-packages (from matplotlib>=1.4.0->scikit-plot) (1.21.6)\n",
            "Requirement already satisfied: kiwisolver>=1.0.1 in /usr/local/lib/python3.7/dist-packages (from matplotlib>=1.4.0->scikit-plot) (1.4.4)\n",
            "Requirement already satisfied: typing-extensions in /usr/local/lib/python3.7/dist-packages (from kiwisolver>=1.0.1->matplotlib>=1.4.0->scikit-plot) (4.1.1)\n",
            "Requirement already satisfied: six>=1.5 in /usr/local/lib/python3.7/dist-packages (from python-dateutil>=2.1->matplotlib>=1.4.0->scikit-plot) (1.15.0)\n",
            "Requirement already satisfied: threadpoolctl>=2.0.0 in /usr/local/lib/python3.7/dist-packages (from scikit-learn>=0.18->scikit-plot) (3.1.0)\n",
            "Installing collected packages: scikit-plot\n",
            "Successfully installed scikit-plot-0.3.7\n",
            "Looking in indexes: https://pypi.org/simple, https://us-python.pkg.dev/colab-wheels/public/simple/\n",
            "Requirement already satisfied: scikit-learn in /usr/local/lib/python3.7/dist-packages (1.0.2)\n",
            "Requirement already satisfied: numpy>=1.14.6 in /usr/local/lib/python3.7/dist-packages (from scikit-learn) (1.21.6)\n",
            "Requirement already satisfied: joblib>=0.11 in /usr/local/lib/python3.7/dist-packages (from scikit-learn) (1.1.0)\n",
            "Requirement already satisfied: scipy>=1.1.0 in /usr/local/lib/python3.7/dist-packages (from scikit-learn) (1.7.3)\n",
            "Requirement already satisfied: threadpoolctl>=2.0.0 in /usr/local/lib/python3.7/dist-packages (from scikit-learn) (3.1.0)\n",
            "Looking in indexes: https://pypi.org/simple, https://us-python.pkg.dev/colab-wheels/public/simple/\n",
            "Collecting category_encoders\n",
            "  Downloading category_encoders-2.5.0-py2.py3-none-any.whl (69 kB)\n",
            "\u001b[K     |████████████████████████████████| 69 kB 4.6 MB/s \n",
            "\u001b[?25hRequirement already satisfied: scikit-learn>=0.20.0 in /usr/local/lib/python3.7/dist-packages (from category_encoders) (1.0.2)\n",
            "Requirement already satisfied: scipy>=1.0.0 in /usr/local/lib/python3.7/dist-packages (from category_encoders) (1.7.3)\n",
            "Requirement already satisfied: patsy>=0.5.1 in /usr/local/lib/python3.7/dist-packages (from category_encoders) (0.5.2)\n",
            "Requirement already satisfied: pandas>=1.0.5 in /usr/local/lib/python3.7/dist-packages (from category_encoders) (1.3.5)\n",
            "Requirement already satisfied: statsmodels>=0.9.0 in /usr/local/lib/python3.7/dist-packages (from category_encoders) (0.12.2)\n",
            "Requirement already satisfied: numpy>=1.14.0 in /usr/local/lib/python3.7/dist-packages (from category_encoders) (1.21.6)\n",
            "Requirement already satisfied: pytz>=2017.3 in /usr/local/lib/python3.7/dist-packages (from pandas>=1.0.5->category_encoders) (2022.2.1)\n",
            "Requirement already satisfied: python-dateutil>=2.7.3 in /usr/local/lib/python3.7/dist-packages (from pandas>=1.0.5->category_encoders) (2.8.2)\n",
            "Requirement already satisfied: six in /usr/local/lib/python3.7/dist-packages (from patsy>=0.5.1->category_encoders) (1.15.0)\n",
            "Requirement already satisfied: joblib>=0.11 in /usr/local/lib/python3.7/dist-packages (from scikit-learn>=0.20.0->category_encoders) (1.1.0)\n",
            "Requirement already satisfied: threadpoolctl>=2.0.0 in /usr/local/lib/python3.7/dist-packages (from scikit-learn>=0.20.0->category_encoders) (3.1.0)\n",
            "Installing collected packages: category-encoders\n",
            "Successfully installed category-encoders-2.5.0\n",
            "Looking in indexes: https://pypi.org/simple, https://us-python.pkg.dev/colab-wheels/public/simple/\n",
            "Collecting dmba\n",
            "  Downloading dmba-0.1.0-py3-none-any.whl (11.8 MB)\n",
            "\u001b[K     |████████████████████████████████| 11.8 MB 11.6 MB/s \n",
            "\u001b[?25hInstalling collected packages: dmba\n",
            "Successfully installed dmba-0.1.0\n",
            "no display found. Using non-interactive Agg backend\n"
          ]
        }
      ],
      "source": [
        "%matplotlib inline\n",
        "\n",
        "from pathlib import Path\n",
        "\n",
        "import pandas as pd\n",
        "import numpy as np\n",
        "from sklearn.tree import DecisionTreeClassifier\n",
        "from sklearn.ensemble import RandomForestRegressor, RandomForestClassifier\n",
        "from sklearn.preprocessing import MinMaxScaler\n",
        "from sklearn.model_selection import train_test_split\n",
        "from sklearn import metrics\n",
        "import seaborn as sns\n",
        "!pip install scipy #category_encoders dependent on these packages\n",
        "!pip install scikit-plot\n",
        "!pip install scikit-learn\n",
        "!pip install category_encoders\n",
        "import category_encoders as ce\n",
        "import matplotlib.pylab as plt\n",
        "!pip install dmba\n",
        "from dmba import plotDecisionTree\n",
        "from sklearn.neighbors import KNeighborsClassifier\n",
        "from sklearn.impute import SimpleImputer"
      ]
    },
    {
      "cell_type": "markdown",
      "metadata": {
        "id": "4EbA9xKCXcPD"
      },
      "source": [
        "## Importing and initial cleaning of the data"
      ]
    },
    {
      "cell_type": "code",
      "execution_count": null,
      "metadata": {
        "colab": {
          "base_uri": "https://localhost:8080/"
        },
        "id": "oQocth2gXe-H",
        "outputId": "36bb4061-b9ab-4d7a-e0a7-62f6820d1d10"
      },
      "outputs": [
        {
          "output_type": "stream",
          "name": "stderr",
          "text": [
            "/usr/local/lib/python3.7/dist-packages/IPython/core/interactiveshell.py:3326: DtypeWarning: Columns (371,381) have mixed types.Specify dtype option on import or set low_memory=False.\n",
            "  exec(code_obj, self.user_global_ns, self.user_ns)\n"
          ]
        }
      ],
      "source": [
        "wfh_raw = pd.read_csv('WFHData_July21toJune22.csv')"
      ]
    },
    {
      "cell_type": "code",
      "execution_count": null,
      "metadata": {
        "id": "3fO6nCkgrCiM"
      },
      "outputs": [],
      "source": [
        "#removing any spaces\n",
        "wfh_raw.columns = wfh_raw.columns.str.strip()"
      ]
    },
    {
      "cell_type": "markdown",
      "metadata": {
        "id": "ZBUrf0d7_cO0"
      },
      "source": [
        "# Dropping features that are unimportant based on EDA"
      ]
    },
    {
      "cell_type": "code",
      "execution_count": null,
      "metadata": {
        "id": "xd9W0gOp_gjj"
      },
      "outputs": [],
      "source": [
        "wfh2 = wfh[['date', 'logpop_den_job_current', 'workhours_duringCOVID', 'wfhcovid_ever', 'work_computer_pct', 'workhours_preCOVID', 'wfh_eff_COVID_quant', 'hourly_wage',\n",
        "            'commutetime_quant', 'drivealone_current_pct', 'nocommute_current_pct', 'employer_sizecat', 'uploadspeed', 'downloadspeed', 'work_industry', 'worktime_nonremoteable_pct',\n",
        "            'worktime_remoteable_pct', 'occupation_clean', 'extratime_1stjob', 'wfh_interviewing', 'groomtime_commute', 'self_employment', 'extratime_2ndjob', 'extratime_indoorleisure',\n",
        "            'workstatus_current']] #24 features"
      ]
    },
    {
      "cell_type": "markdown",
      "metadata": {
        "id": "ouSu5eKhBMLj"
      },
      "source": [
        "#Exploring our chosen features"
      ]
    },
    {
      "cell_type": "code",
      "execution_count": null,
      "metadata": {
        "id": "KX1dfQPY5E07"
      },
      "outputs": [],
      "source": [
        "#changing the date object to datetime format\n",
        "wfh2['date'] = pd.to_datetime(wfh2['date'], format='%Ym%m')\n",
        "wfh2['quit_date'] = pd.to_datetime(wfh2['quit_date'], format='%Ym%m')"
      ]
    },
    {
      "cell_type": "code",
      "source": [
        "wfh2['day'] = wfh2['date'].dt.day\n",
        "wfh2['month'] = wfh2['date'].dt.month\n",
        "wfh2['year'] = wfh2['date'].dt.year"
      ],
      "metadata": {
        "colab": {
          "base_uri": "https://localhost:8080/"
        },
        "id": "YjxlGAB_sPkP",
        "outputId": "875efc44-b138-43c7-e678-32da2c1b47dd"
      },
      "execution_count": null,
      "outputs": [
        {
          "output_type": "stream",
          "name": "stderr",
          "text": [
            "/usr/local/lib/python3.7/dist-packages/ipykernel_launcher.py:1: SettingWithCopyWarning: \n",
            "A value is trying to be set on a copy of a slice from a DataFrame.\n",
            "Try using .loc[row_indexer,col_indexer] = value instead\n",
            "\n",
            "See the caveats in the documentation: https://pandas.pydata.org/pandas-docs/stable/user_guide/indexing.html#returning-a-view-versus-a-copy\n",
            "  \"\"\"Entry point for launching an IPython kernel.\n",
            "/usr/local/lib/python3.7/dist-packages/ipykernel_launcher.py:2: SettingWithCopyWarning: \n",
            "A value is trying to be set on a copy of a slice from a DataFrame.\n",
            "Try using .loc[row_indexer,col_indexer] = value instead\n",
            "\n",
            "See the caveats in the documentation: https://pandas.pydata.org/pandas-docs/stable/user_guide/indexing.html#returning-a-view-versus-a-copy\n",
            "  \n",
            "/usr/local/lib/python3.7/dist-packages/ipykernel_launcher.py:3: SettingWithCopyWarning: \n",
            "A value is trying to be set on a copy of a slice from a DataFrame.\n",
            "Try using .loc[row_indexer,col_indexer] = value instead\n",
            "\n",
            "See the caveats in the documentation: https://pandas.pydata.org/pandas-docs/stable/user_guide/indexing.html#returning-a-view-versus-a-copy\n",
            "  This is separate from the ipykernel package so we can avoid doing imports until\n"
          ]
        }
      ]
    },
    {
      "cell_type": "code",
      "source": [
        "wfh2 = wfh2.drop(labels=['date'], axis=1)"
      ],
      "metadata": {
        "id": "qAiNF1a8sywK"
      },
      "execution_count": null,
      "outputs": []
    },
    {
      "cell_type": "code",
      "source": [
        "list(wfh2.columns.values)"
      ],
      "metadata": {
        "colab": {
          "base_uri": "https://localhost:8080/"
        },
        "id": "Z29U0fFhtuAL",
        "outputId": "ed9e2395-8720-416a-be95-89151d0e8da9"
      },
      "execution_count": null,
      "outputs": [
        {
          "output_type": "execute_result",
          "data": {
            "text/plain": [
              "['logpop_den_job_current',\n",
              " 'workhours_duringCOVID',\n",
              " 'wfhcovid_ever',\n",
              " 'work_computer_pct',\n",
              " 'workhours_preCOVID',\n",
              " 'wfh_eff_COVID_quant',\n",
              " 'hourly_wage',\n",
              " 'commutetime_quant',\n",
              " 'drivealone_current_pct',\n",
              " 'nocommute_current_pct',\n",
              " 'employer_sizecat',\n",
              " 'uploadspeed',\n",
              " 'downloadspeed',\n",
              " 'work_industry',\n",
              " 'worktime_nonremoteable_pct',\n",
              " 'worktime_remoteable_pct',\n",
              " 'occupation_clean',\n",
              " 'extratime_1stjob',\n",
              " 'wfh_interviewing',\n",
              " 'groomtime_commute',\n",
              " 'self_employment',\n",
              " 'extratime_2ndjob',\n",
              " 'extratime_indoorleisure',\n",
              " 'workstatus_current',\n",
              " 'day',\n",
              " 'month',\n",
              " 'year']"
            ]
          },
          "metadata": {},
          "execution_count": 27
        }
      ]
    },
    {
      "cell_type": "code",
      "source": [
        "wfh2 = wfh2[['year', 'month', 'day', 'logpop_den_job_current',\n",
        " 'workhours_duringCOVID',\n",
        " 'wfhcovid_ever',\n",
        " 'work_computer_pct',\n",
        " 'workhours_preCOVID',\n",
        " 'wfh_eff_COVID_quant',\n",
        " 'hourly_wage',\n",
        " 'commutetime_quant',\n",
        " 'drivealone_current_pct',\n",
        " 'nocommute_current_pct',\n",
        " 'employer_sizecat',\n",
        " 'uploadspeed',\n",
        " 'downloadspeed',\n",
        " 'work_industry',\n",
        " 'worktime_nonremoteable_pct',\n",
        " 'worktime_remoteable_pct',\n",
        " 'occupation_clean',\n",
        " 'extratime_1stjob',\n",
        " 'wfh_interviewing',\n",
        " 'groomtime_commute',\n",
        " 'self_employment',\n",
        " 'extratime_2ndjob',\n",
        " 'extratime_indoorleisure',\n",
        " 'workstatus_current']]"
      ],
      "metadata": {
        "id": "otLIHOvftcRH"
      },
      "execution_count": null,
      "outputs": []
    },
    {
      "cell_type": "markdown",
      "metadata": {
        "id": "gesLdeZwNiR9"
      },
      "source": [
        "# Splitting the dataset"
      ]
    },
    {
      "cell_type": "code",
      "source": [
        "X = wfh2.drop(columns=['workstatus_current'])\n",
        "y = wfh2['workstatus_current']\n",
        "\n",
        "train_X, valid_X, train_y, valid_y = train_test_split(X,y, test_size=0.3, random_state=1)"
      ],
      "metadata": {
        "id": "xLmBXVTCvN2Q"
      },
      "execution_count": null,
      "outputs": []
    },
    {
      "cell_type": "markdown",
      "metadata": {
        "id": "3SShz2gNWIMt"
      },
      "source": [
        "# Impute missing values in training data"
      ]
    },
    {
      "cell_type": "code",
      "source": [
        "X_imp = imp.fit(train_X2)"
      ],
      "metadata": {
        "id": "HsPXHOuLvrFN"
      },
      "execution_count": null,
      "outputs": []
    },
    {
      "cell_type": "code",
      "source": [
        "X_imp_array = imp.transform(train_X2)"
      ],
      "metadata": {
        "id": "BVt5YvCov6W5"
      },
      "execution_count": null,
      "outputs": []
    },
    {
      "cell_type": "code",
      "source": [
        "train_X.columns"
      ],
      "metadata": {
        "colab": {
          "base_uri": "https://localhost:8080/"
        },
        "id": "2vFcylBDw0FT",
        "outputId": "e5b93591-e73a-4b55-f825-468040e51ee2"
      },
      "execution_count": null,
      "outputs": [
        {
          "output_type": "execute_result",
          "data": {
            "text/plain": [
              "Index(['year', 'month', 'day', 'logpop_den_job_current',\n",
              "       'workhours_duringCOVID', 'wfhcovid_ever', 'work_computer_pct',\n",
              "       'workhours_preCOVID', 'wfh_eff_COVID_quant', 'hourly_wage',\n",
              "       'commutetime_quant', 'drivealone_current_pct', 'nocommute_current_pct',\n",
              "       'employer_sizecat', 'uploadspeed', 'downloadspeed', 'work_industry',\n",
              "       'worktime_nonremoteable_pct', 'worktime_remoteable_pct',\n",
              "       'occupation_clean', 'extratime_1stjob', 'wfh_interviewing',\n",
              "       'groomtime_commute', 'self_employment', 'extratime_2ndjob',\n",
              "       'extratime_indoorleisure'],\n",
              "      dtype='object')"
            ]
          },
          "metadata": {},
          "execution_count": 41
        }
      ]
    },
    {
      "cell_type": "code",
      "source": [
        "train_Xi = pd.DataFrame(X_imp_array,\n",
        "                       columns=['year', 'month', 'day', 'logpop_den_job_current',\n",
        "       'workhours_duringCOVID', 'wfhcovid_ever', 'work_computer_pct',\n",
        "       'workhours_preCOVID', 'wfh_eff_COVID_quant', 'hourly_wage',\n",
        "       'commutetime_quant', 'drivealone_current_pct', 'nocommute_current_pct',\n",
        "       'employer_sizecat', 'uploadspeed', 'downloadspeed', 'work_industry',\n",
        "       'worktime_nonremoteable_pct', 'worktime_remoteable_pct',\n",
        "       'occupation_clean', 'extratime_1stjob', 'wfh_interviewing',\n",
        "       'groomtime_commute', 'self_employment', 'extratime_2ndjob',\n",
        "       'extratime_indoorleisure'])"
      ],
      "metadata": {
        "id": "PvdU3DK9w3AS"
      },
      "execution_count": null,
      "outputs": []
    },
    {
      "cell_type": "markdown",
      "metadata": {
        "id": "BIJ9OJ76cPf8"
      },
      "source": [
        "#Impute test data"
      ]
    },
    {
      "cell_type": "code",
      "source": [
        "train_Xi.mode()"
      ],
      "metadata": {
        "colab": {
          "base_uri": "https://localhost:8080/",
          "height": 145
        },
        "id": "LDR8XjYIy_dk",
        "outputId": "36d26e6e-2c32-4d28-cee7-9aa6da4d1642"
      },
      "execution_count": null,
      "outputs": [
        {
          "output_type": "execute_result",
          "data": {
            "text/plain": [
              "     year  month  day  logpop_den_job_current  workhours_duringCOVID  \\\n",
              "0  2022.0    6.0  1.0               10.364245                   40.0   \n",
              "\n",
              "   wfhcovid_ever  work_computer_pct  workhours_preCOVID  wfh_eff_COVID_quant  \\\n",
              "0          100.0              100.0                40.0                  0.0   \n",
              "\n",
              "   hourly_wage  commutetime_quant  drivealone_current_pct  \\\n",
              "0         17.5               30.0                   100.0   \n",
              "\n",
              "   nocommute_current_pct  employer_sizecat  uploadspeed  downloadspeed  \\\n",
              "0                    0.0               5.0        100.0          100.0   \n",
              "\n",
              "   work_industry  worktime_nonremoteable_pct  worktime_remoteable_pct  \\\n",
              "0            6.0                       100.0                    100.0   \n",
              "\n",
              "   occupation_clean  extratime_1stjob  wfh_interviewing  groomtime_commute  \\\n",
              "0               8.0               0.0               1.0               30.0   \n",
              "\n",
              "   self_employment  extratime_2ndjob  extratime_indoorleisure  \n",
              "0              1.0               0.0                     10.0  "
            ],
            "text/html": [
              "\n",
              "  <div id=\"df-c801ea86-fa95-4e3d-b887-4e15a93710a6\">\n",
              "    <div class=\"colab-df-container\">\n",
              "      <div>\n",
              "<style scoped>\n",
              "    .dataframe tbody tr th:only-of-type {\n",
              "        vertical-align: middle;\n",
              "    }\n",
              "\n",
              "    .dataframe tbody tr th {\n",
              "        vertical-align: top;\n",
              "    }\n",
              "\n",
              "    .dataframe thead th {\n",
              "        text-align: right;\n",
              "    }\n",
              "</style>\n",
              "<table border=\"1\" class=\"dataframe\">\n",
              "  <thead>\n",
              "    <tr style=\"text-align: right;\">\n",
              "      <th></th>\n",
              "      <th>year</th>\n",
              "      <th>month</th>\n",
              "      <th>day</th>\n",
              "      <th>logpop_den_job_current</th>\n",
              "      <th>workhours_duringCOVID</th>\n",
              "      <th>wfhcovid_ever</th>\n",
              "      <th>work_computer_pct</th>\n",
              "      <th>workhours_preCOVID</th>\n",
              "      <th>wfh_eff_COVID_quant</th>\n",
              "      <th>hourly_wage</th>\n",
              "      <th>commutetime_quant</th>\n",
              "      <th>drivealone_current_pct</th>\n",
              "      <th>nocommute_current_pct</th>\n",
              "      <th>employer_sizecat</th>\n",
              "      <th>uploadspeed</th>\n",
              "      <th>downloadspeed</th>\n",
              "      <th>work_industry</th>\n",
              "      <th>worktime_nonremoteable_pct</th>\n",
              "      <th>worktime_remoteable_pct</th>\n",
              "      <th>occupation_clean</th>\n",
              "      <th>extratime_1stjob</th>\n",
              "      <th>wfh_interviewing</th>\n",
              "      <th>groomtime_commute</th>\n",
              "      <th>self_employment</th>\n",
              "      <th>extratime_2ndjob</th>\n",
              "      <th>extratime_indoorleisure</th>\n",
              "    </tr>\n",
              "  </thead>\n",
              "  <tbody>\n",
              "    <tr>\n",
              "      <th>0</th>\n",
              "      <td>2022.0</td>\n",
              "      <td>6.0</td>\n",
              "      <td>1.0</td>\n",
              "      <td>10.364245</td>\n",
              "      <td>40.0</td>\n",
              "      <td>100.0</td>\n",
              "      <td>100.0</td>\n",
              "      <td>40.0</td>\n",
              "      <td>0.0</td>\n",
              "      <td>17.5</td>\n",
              "      <td>30.0</td>\n",
              "      <td>100.0</td>\n",
              "      <td>0.0</td>\n",
              "      <td>5.0</td>\n",
              "      <td>100.0</td>\n",
              "      <td>100.0</td>\n",
              "      <td>6.0</td>\n",
              "      <td>100.0</td>\n",
              "      <td>100.0</td>\n",
              "      <td>8.0</td>\n",
              "      <td>0.0</td>\n",
              "      <td>1.0</td>\n",
              "      <td>30.0</td>\n",
              "      <td>1.0</td>\n",
              "      <td>0.0</td>\n",
              "      <td>10.0</td>\n",
              "    </tr>\n",
              "  </tbody>\n",
              "</table>\n",
              "</div>\n",
              "      <button class=\"colab-df-convert\" onclick=\"convertToInteractive('df-c801ea86-fa95-4e3d-b887-4e15a93710a6')\"\n",
              "              title=\"Convert this dataframe to an interactive table.\"\n",
              "              style=\"display:none;\">\n",
              "        \n",
              "  <svg xmlns=\"http://www.w3.org/2000/svg\" height=\"24px\"viewBox=\"0 0 24 24\"\n",
              "       width=\"24px\">\n",
              "    <path d=\"M0 0h24v24H0V0z\" fill=\"none\"/>\n",
              "    <path d=\"M18.56 5.44l.94 2.06.94-2.06 2.06-.94-2.06-.94-.94-2.06-.94 2.06-2.06.94zm-11 1L8.5 8.5l.94-2.06 2.06-.94-2.06-.94L8.5 2.5l-.94 2.06-2.06.94zm10 10l.94 2.06.94-2.06 2.06-.94-2.06-.94-.94-2.06-.94 2.06-2.06.94z\"/><path d=\"M17.41 7.96l-1.37-1.37c-.4-.4-.92-.59-1.43-.59-.52 0-1.04.2-1.43.59L10.3 9.45l-7.72 7.72c-.78.78-.78 2.05 0 2.83L4 21.41c.39.39.9.59 1.41.59.51 0 1.02-.2 1.41-.59l7.78-7.78 2.81-2.81c.8-.78.8-2.07 0-2.86zM5.41 20L4 18.59l7.72-7.72 1.47 1.35L5.41 20z\"/>\n",
              "  </svg>\n",
              "      </button>\n",
              "      \n",
              "  <style>\n",
              "    .colab-df-container {\n",
              "      display:flex;\n",
              "      flex-wrap:wrap;\n",
              "      gap: 12px;\n",
              "    }\n",
              "\n",
              "    .colab-df-convert {\n",
              "      background-color: #E8F0FE;\n",
              "      border: none;\n",
              "      border-radius: 50%;\n",
              "      cursor: pointer;\n",
              "      display: none;\n",
              "      fill: #1967D2;\n",
              "      height: 32px;\n",
              "      padding: 0 0 0 0;\n",
              "      width: 32px;\n",
              "    }\n",
              "\n",
              "    .colab-df-convert:hover {\n",
              "      background-color: #E2EBFA;\n",
              "      box-shadow: 0px 1px 2px rgba(60, 64, 67, 0.3), 0px 1px 3px 1px rgba(60, 64, 67, 0.15);\n",
              "      fill: #174EA6;\n",
              "    }\n",
              "\n",
              "    [theme=dark] .colab-df-convert {\n",
              "      background-color: #3B4455;\n",
              "      fill: #D2E3FC;\n",
              "    }\n",
              "\n",
              "    [theme=dark] .colab-df-convert:hover {\n",
              "      background-color: #434B5C;\n",
              "      box-shadow: 0px 1px 3px 1px rgba(0, 0, 0, 0.15);\n",
              "      filter: drop-shadow(0px 1px 2px rgba(0, 0, 0, 0.3));\n",
              "      fill: #FFFFFF;\n",
              "    }\n",
              "  </style>\n",
              "\n",
              "      <script>\n",
              "        const buttonEl =\n",
              "          document.querySelector('#df-c801ea86-fa95-4e3d-b887-4e15a93710a6 button.colab-df-convert');\n",
              "        buttonEl.style.display =\n",
              "          google.colab.kernel.accessAllowed ? 'block' : 'none';\n",
              "\n",
              "        async function convertToInteractive(key) {\n",
              "          const element = document.querySelector('#df-c801ea86-fa95-4e3d-b887-4e15a93710a6');\n",
              "          const dataTable =\n",
              "            await google.colab.kernel.invokeFunction('convertToInteractive',\n",
              "                                                     [key], {});\n",
              "          if (!dataTable) return;\n",
              "\n",
              "          const docLinkHtml = 'Like what you see? Visit the ' +\n",
              "            '<a target=\"_blank\" href=https://colab.research.google.com/notebooks/data_table.ipynb>data table notebook</a>'\n",
              "            + ' to learn more about interactive tables.';\n",
              "          element.innerHTML = '';\n",
              "          dataTable['output_type'] = 'display_data';\n",
              "          await google.colab.output.renderOutput(dataTable, element);\n",
              "          const docLink = document.createElement('div');\n",
              "          docLink.innerHTML = docLinkHtml;\n",
              "          element.appendChild(docLink);\n",
              "        }\n",
              "      </script>\n",
              "    </div>\n",
              "  </div>\n",
              "  "
            ]
          },
          "metadata": {},
          "execution_count": 148
        }
      ]
    },
    {
      "cell_type": "code",
      "source": [
        "values = {'workhours_duringCOVID': 40, 'work_computer_pct': 100, 'workhours_preCOVID': 40, 'logpop_den_job_current': 10.364245,\n",
        "           'wfh_eff_COVID_quant' : 0, 'worktime_nonremoteable_pct' : 100, 'worktime_remoteable_pct' : 100, 'drivealone_current_pct' : 100, 'nocommute_current_pct' : 0,\n",
        "           'extratime_1stjob' : 0, 'employer_sizecat' : 5, 'uploadspeed' : 100, 'downloadspeed' : 100, 'hourly_wage' : 17.5, 'occupation_clean' : 8, 'work_industry' : 6,\n",
        "           'wfh_interviewing': 1, 'groomtime_commute' : 30, 'self_employment' : 1, 'extratime_2ndjob' : 0, 'extratime_indoorleisure' : 10}"
      ],
      "metadata": {
        "id": "cs51W6kGzJH4"
      },
      "execution_count": null,
      "outputs": []
    },
    {
      "cell_type": "code",
      "source": [
        "valid_X = valid_X.fillna(value = values)"
      ],
      "metadata": {
        "id": "9bZelDJOzU4M"
      },
      "execution_count": null,
      "outputs": []
    },
    {
      "cell_type": "code",
      "execution_count": null,
      "metadata": {
        "colab": {
          "base_uri": "https://localhost:8080/",
          "height": 300
        },
        "id": "XkLkvIvAC4MB",
        "outputId": "be1ff32e-66fa-451d-d241-deb477328c70"
      },
      "outputs": [
        {
          "output_type": "execute_result",
          "data": {
            "text/plain": [
              "       year  month  day  logpop_den_job_current  workhours_duringCOVID  \\\n",
              "5669   2021      9    1               11.297915                   20.0   \n",
              "31973  2021     10    1                6.161024                   37.0   \n",
              "8249   2021      7    1                8.174906                   19.0   \n",
              "33521  2021     11    1                7.810554                   70.0   \n",
              "15006  2022      1    1                6.038852                   40.0   \n",
              "\n",
              "       wfhcovid_ever  work_computer_pct  workhours_preCOVID  \\\n",
              "5669             100              100.0                  20   \n",
              "31973              0              100.0                  50   \n",
              "8249             100              100.0                  20   \n",
              "33521              0              100.0                  60   \n",
              "15006            100              100.0                  40   \n",
              "\n",
              "       wfh_eff_COVID_quant  hourly_wage  ...  work_industry  \\\n",
              "5669                  12.5   225.000000  ...            4.0   \n",
              "31973                  0.0     6.000000  ...            6.0   \n",
              "8249                   0.0  1000.000000  ...            2.0   \n",
              "33521                  0.0    18.055555  ...           17.0   \n",
              "15006                -20.0    22.500000  ...            9.0   \n",
              "\n",
              "       worktime_nonremoteable_pct  worktime_remoteable_pct  occupation_clean  \\\n",
              "5669                        100.0                    100.0               2.0   \n",
              "31973                       100.0                    100.0              10.0   \n",
              "8249                        100.0                    100.0              10.0   \n",
              "33521                       100.0                      0.0              10.0   \n",
              "15006                       100.0                     75.0               6.0   \n",
              "\n",
              "       extratime_1stjob  wfh_interviewing  groomtime_commute  self_employment  \\\n",
              "5669               10.0               1.0               30.0              1.0   \n",
              "31973               0.0               1.0               30.0              1.0   \n",
              "8249               10.0               1.0               30.0              1.0   \n",
              "33521               0.0               1.0               20.0              2.0   \n",
              "15006               0.0               1.0               15.0              1.0   \n",
              "\n",
              "       extratime_2ndjob  extratime_indoorleisure  \n",
              "5669               20.0                     20.0  \n",
              "31973               0.0                     10.0  \n",
              "8249               10.0                     10.0  \n",
              "33521               0.0                     10.0  \n",
              "15006               0.0                     50.0  \n",
              "\n",
              "[5 rows x 26 columns]"
            ],
            "text/html": [
              "\n",
              "  <div id=\"df-4e8fcbca-994b-49d3-8f6b-762bf09e3c0d\">\n",
              "    <div class=\"colab-df-container\">\n",
              "      <div>\n",
              "<style scoped>\n",
              "    .dataframe tbody tr th:only-of-type {\n",
              "        vertical-align: middle;\n",
              "    }\n",
              "\n",
              "    .dataframe tbody tr th {\n",
              "        vertical-align: top;\n",
              "    }\n",
              "\n",
              "    .dataframe thead th {\n",
              "        text-align: right;\n",
              "    }\n",
              "</style>\n",
              "<table border=\"1\" class=\"dataframe\">\n",
              "  <thead>\n",
              "    <tr style=\"text-align: right;\">\n",
              "      <th></th>\n",
              "      <th>year</th>\n",
              "      <th>month</th>\n",
              "      <th>day</th>\n",
              "      <th>logpop_den_job_current</th>\n",
              "      <th>workhours_duringCOVID</th>\n",
              "      <th>wfhcovid_ever</th>\n",
              "      <th>work_computer_pct</th>\n",
              "      <th>workhours_preCOVID</th>\n",
              "      <th>wfh_eff_COVID_quant</th>\n",
              "      <th>hourly_wage</th>\n",
              "      <th>...</th>\n",
              "      <th>work_industry</th>\n",
              "      <th>worktime_nonremoteable_pct</th>\n",
              "      <th>worktime_remoteable_pct</th>\n",
              "      <th>occupation_clean</th>\n",
              "      <th>extratime_1stjob</th>\n",
              "      <th>wfh_interviewing</th>\n",
              "      <th>groomtime_commute</th>\n",
              "      <th>self_employment</th>\n",
              "      <th>extratime_2ndjob</th>\n",
              "      <th>extratime_indoorleisure</th>\n",
              "    </tr>\n",
              "  </thead>\n",
              "  <tbody>\n",
              "    <tr>\n",
              "      <th>5669</th>\n",
              "      <td>2021</td>\n",
              "      <td>9</td>\n",
              "      <td>1</td>\n",
              "      <td>11.297915</td>\n",
              "      <td>20.0</td>\n",
              "      <td>100</td>\n",
              "      <td>100.0</td>\n",
              "      <td>20</td>\n",
              "      <td>12.5</td>\n",
              "      <td>225.000000</td>\n",
              "      <td>...</td>\n",
              "      <td>4.0</td>\n",
              "      <td>100.0</td>\n",
              "      <td>100.0</td>\n",
              "      <td>2.0</td>\n",
              "      <td>10.0</td>\n",
              "      <td>1.0</td>\n",
              "      <td>30.0</td>\n",
              "      <td>1.0</td>\n",
              "      <td>20.0</td>\n",
              "      <td>20.0</td>\n",
              "    </tr>\n",
              "    <tr>\n",
              "      <th>31973</th>\n",
              "      <td>2021</td>\n",
              "      <td>10</td>\n",
              "      <td>1</td>\n",
              "      <td>6.161024</td>\n",
              "      <td>37.0</td>\n",
              "      <td>0</td>\n",
              "      <td>100.0</td>\n",
              "      <td>50</td>\n",
              "      <td>0.0</td>\n",
              "      <td>6.000000</td>\n",
              "      <td>...</td>\n",
              "      <td>6.0</td>\n",
              "      <td>100.0</td>\n",
              "      <td>100.0</td>\n",
              "      <td>10.0</td>\n",
              "      <td>0.0</td>\n",
              "      <td>1.0</td>\n",
              "      <td>30.0</td>\n",
              "      <td>1.0</td>\n",
              "      <td>0.0</td>\n",
              "      <td>10.0</td>\n",
              "    </tr>\n",
              "    <tr>\n",
              "      <th>8249</th>\n",
              "      <td>2021</td>\n",
              "      <td>7</td>\n",
              "      <td>1</td>\n",
              "      <td>8.174906</td>\n",
              "      <td>19.0</td>\n",
              "      <td>100</td>\n",
              "      <td>100.0</td>\n",
              "      <td>20</td>\n",
              "      <td>0.0</td>\n",
              "      <td>1000.000000</td>\n",
              "      <td>...</td>\n",
              "      <td>2.0</td>\n",
              "      <td>100.0</td>\n",
              "      <td>100.0</td>\n",
              "      <td>10.0</td>\n",
              "      <td>10.0</td>\n",
              "      <td>1.0</td>\n",
              "      <td>30.0</td>\n",
              "      <td>1.0</td>\n",
              "      <td>10.0</td>\n",
              "      <td>10.0</td>\n",
              "    </tr>\n",
              "    <tr>\n",
              "      <th>33521</th>\n",
              "      <td>2021</td>\n",
              "      <td>11</td>\n",
              "      <td>1</td>\n",
              "      <td>7.810554</td>\n",
              "      <td>70.0</td>\n",
              "      <td>0</td>\n",
              "      <td>100.0</td>\n",
              "      <td>60</td>\n",
              "      <td>0.0</td>\n",
              "      <td>18.055555</td>\n",
              "      <td>...</td>\n",
              "      <td>17.0</td>\n",
              "      <td>100.0</td>\n",
              "      <td>0.0</td>\n",
              "      <td>10.0</td>\n",
              "      <td>0.0</td>\n",
              "      <td>1.0</td>\n",
              "      <td>20.0</td>\n",
              "      <td>2.0</td>\n",
              "      <td>0.0</td>\n",
              "      <td>10.0</td>\n",
              "    </tr>\n",
              "    <tr>\n",
              "      <th>15006</th>\n",
              "      <td>2022</td>\n",
              "      <td>1</td>\n",
              "      <td>1</td>\n",
              "      <td>6.038852</td>\n",
              "      <td>40.0</td>\n",
              "      <td>100</td>\n",
              "      <td>100.0</td>\n",
              "      <td>40</td>\n",
              "      <td>-20.0</td>\n",
              "      <td>22.500000</td>\n",
              "      <td>...</td>\n",
              "      <td>9.0</td>\n",
              "      <td>100.0</td>\n",
              "      <td>75.0</td>\n",
              "      <td>6.0</td>\n",
              "      <td>0.0</td>\n",
              "      <td>1.0</td>\n",
              "      <td>15.0</td>\n",
              "      <td>1.0</td>\n",
              "      <td>0.0</td>\n",
              "      <td>50.0</td>\n",
              "    </tr>\n",
              "  </tbody>\n",
              "</table>\n",
              "<p>5 rows × 26 columns</p>\n",
              "</div>\n",
              "      <button class=\"colab-df-convert\" onclick=\"convertToInteractive('df-4e8fcbca-994b-49d3-8f6b-762bf09e3c0d')\"\n",
              "              title=\"Convert this dataframe to an interactive table.\"\n",
              "              style=\"display:none;\">\n",
              "        \n",
              "  <svg xmlns=\"http://www.w3.org/2000/svg\" height=\"24px\"viewBox=\"0 0 24 24\"\n",
              "       width=\"24px\">\n",
              "    <path d=\"M0 0h24v24H0V0z\" fill=\"none\"/>\n",
              "    <path d=\"M18.56 5.44l.94 2.06.94-2.06 2.06-.94-2.06-.94-.94-2.06-.94 2.06-2.06.94zm-11 1L8.5 8.5l.94-2.06 2.06-.94-2.06-.94L8.5 2.5l-.94 2.06-2.06.94zm10 10l.94 2.06.94-2.06 2.06-.94-2.06-.94-.94-2.06-.94 2.06-2.06.94z\"/><path d=\"M17.41 7.96l-1.37-1.37c-.4-.4-.92-.59-1.43-.59-.52 0-1.04.2-1.43.59L10.3 9.45l-7.72 7.72c-.78.78-.78 2.05 0 2.83L4 21.41c.39.39.9.59 1.41.59.51 0 1.02-.2 1.41-.59l7.78-7.78 2.81-2.81c.8-.78.8-2.07 0-2.86zM5.41 20L4 18.59l7.72-7.72 1.47 1.35L5.41 20z\"/>\n",
              "  </svg>\n",
              "      </button>\n",
              "      \n",
              "  <style>\n",
              "    .colab-df-container {\n",
              "      display:flex;\n",
              "      flex-wrap:wrap;\n",
              "      gap: 12px;\n",
              "    }\n",
              "\n",
              "    .colab-df-convert {\n",
              "      background-color: #E8F0FE;\n",
              "      border: none;\n",
              "      border-radius: 50%;\n",
              "      cursor: pointer;\n",
              "      display: none;\n",
              "      fill: #1967D2;\n",
              "      height: 32px;\n",
              "      padding: 0 0 0 0;\n",
              "      width: 32px;\n",
              "    }\n",
              "\n",
              "    .colab-df-convert:hover {\n",
              "      background-color: #E2EBFA;\n",
              "      box-shadow: 0px 1px 2px rgba(60, 64, 67, 0.3), 0px 1px 3px 1px rgba(60, 64, 67, 0.15);\n",
              "      fill: #174EA6;\n",
              "    }\n",
              "\n",
              "    [theme=dark] .colab-df-convert {\n",
              "      background-color: #3B4455;\n",
              "      fill: #D2E3FC;\n",
              "    }\n",
              "\n",
              "    [theme=dark] .colab-df-convert:hover {\n",
              "      background-color: #434B5C;\n",
              "      box-shadow: 0px 1px 3px 1px rgba(0, 0, 0, 0.15);\n",
              "      filter: drop-shadow(0px 1px 2px rgba(0, 0, 0, 0.3));\n",
              "      fill: #FFFFFF;\n",
              "    }\n",
              "  </style>\n",
              "\n",
              "      <script>\n",
              "        const buttonEl =\n",
              "          document.querySelector('#df-4e8fcbca-994b-49d3-8f6b-762bf09e3c0d button.colab-df-convert');\n",
              "        buttonEl.style.display =\n",
              "          google.colab.kernel.accessAllowed ? 'block' : 'none';\n",
              "\n",
              "        async function convertToInteractive(key) {\n",
              "          const element = document.querySelector('#df-4e8fcbca-994b-49d3-8f6b-762bf09e3c0d');\n",
              "          const dataTable =\n",
              "            await google.colab.kernel.invokeFunction('convertToInteractive',\n",
              "                                                     [key], {});\n",
              "          if (!dataTable) return;\n",
              "\n",
              "          const docLinkHtml = 'Like what you see? Visit the ' +\n",
              "            '<a target=\"_blank\" href=https://colab.research.google.com/notebooks/data_table.ipynb>data table notebook</a>'\n",
              "            + ' to learn more about interactive tables.';\n",
              "          element.innerHTML = '';\n",
              "          dataTable['output_type'] = 'display_data';\n",
              "          await google.colab.output.renderOutput(dataTable, element);\n",
              "          const docLink = document.createElement('div');\n",
              "          docLink.innerHTML = docLinkHtml;\n",
              "          element.appendChild(docLink);\n",
              "        }\n",
              "      </script>\n",
              "    </div>\n",
              "  </div>\n",
              "  "
            ]
          },
          "metadata": {},
          "execution_count": 51
        }
      ],
      "source": [
        "valid_X.head()"
      ]
    },
    {
      "cell_type": "markdown",
      "metadata": {
        "id": "0Jb9lhmXkdU4"
      },
      "source": [
        "# Random Forest Classifier on wfh1 and wfh2"
      ]
    },
    {
      "cell_type": "code",
      "execution_count": null,
      "metadata": {
        "id": "BYWoYXYskhgc"
      },
      "outputs": [],
      "source": [
        "rf = RandomForestClassifier(n_estimators=500, random_state=1)"
      ]
    },
    {
      "cell_type": "code",
      "source": [
        "rf.fit(train_Xi, train_y)"
      ],
      "metadata": {
        "colab": {
          "base_uri": "https://localhost:8080/"
        },
        "id": "GqR6pvox2EE2",
        "outputId": "d0a0db1f-9d57-47c8-9ee7-ae0423b11d55"
      },
      "execution_count": null,
      "outputs": [
        {
          "output_type": "execute_result",
          "data": {
            "text/plain": [
              "RandomForestClassifier(n_estimators=500, random_state=1)"
            ]
          },
          "metadata": {},
          "execution_count": 151
        }
      ]
    },
    {
      "cell_type": "code",
      "source": [
        "importances = rf.feature_importances_\n",
        "std = np.std([tree.feature_importances_ for tree in rf.estimators_], axis=0)"
      ],
      "metadata": {
        "id": "CYwo7MKS2bwU"
      },
      "execution_count": null,
      "outputs": []
    },
    {
      "cell_type": "code",
      "source": [
        "rf_1 = pd.DataFrame({'feature': train_Xi.columns, 'importance': importances, 'std': std})\n",
        "rf_1 = rf_1.sort_values('importance')\n",
        "print(rf_1)"
      ],
      "metadata": {
        "colab": {
          "base_uri": "https://localhost:8080/"
        },
        "id": "R5Ci3hU_2fA2",
        "outputId": "8bd5a205-592e-494b-ecfc-2793845f631e"
      },
      "execution_count": null,
      "outputs": [
        {
          "output_type": "stream",
          "name": "stdout",
          "text": [
            "                       feature  importance       std\n",
            "2                          day    0.000000  0.000000\n",
            "0                         year    0.005246  0.001647\n",
            "12       nocommute_current_pct    0.013089  0.008381\n",
            "17  worktime_nonremoteable_pct    0.015221  0.005037\n",
            "6            work_computer_pct    0.021484  0.006795\n",
            "18     worktime_remoteable_pct    0.025612  0.008610\n",
            "19            occupation_clean    0.026264  0.002812\n",
            "1                        month    0.027081  0.004048\n",
            "11      drivealone_current_pct    0.030892  0.013315\n",
            "16               work_industry    0.030896  0.002115\n",
            "13            employer_sizecat    0.034346  0.014609\n",
            "14                 uploadspeed    0.037007  0.002155\n",
            "15               downloadspeed    0.038049  0.002365\n",
            "10           commutetime_quant    0.052709  0.017991\n",
            "9                  hourly_wage    0.055734  0.015613\n",
            "7           workhours_preCOVID    0.055838  0.027336\n",
            "8          wfh_eff_COVID_quant    0.057470  0.029265\n",
            "20            extratime_1stjob    0.059618  0.034027\n",
            "5                wfhcovid_ever    0.089665  0.047310\n",
            "4        workhours_duringCOVID    0.109852  0.026754\n",
            "3       logpop_den_job_current    0.213928  0.033583\n"
          ]
        }
      ]
    },
    {
      "cell_type": "code",
      "source": [
        "y_pred = rf.predict(valid_X)"
      ],
      "metadata": {
        "id": "u4boDTaH3Am1"
      },
      "execution_count": null,
      "outputs": []
    },
    {
      "cell_type": "code",
      "source": [
        "# checking accuracy for validation set\n",
        "result = metrics.multilabel_confusion_matrix(valid_y, y_pred)\n",
        "print(\"Multi-label Confusion Matrix:\")\n",
        "print(result)\n",
        "\n",
        "result2 = metrics.classification_report(valid_y, y_pred)\n",
        "print(\"Classification Report:\")\n",
        "print(result2)\n",
        "\n",
        "result3 = metrics.accuracy_score(valid_y, y_pred)\n",
        "print(\"Accuracy:\",result3)\n",
        "\n",
        "print('Mean Absolute Error:', metrics.mean_absolute_error(valid_y, y_pred))\n",
        "print('Mean Squared Error:', metrics.mean_squared_error(valid_y, y_pred))\n",
        "print('Root Mean Squared Error:', np.sqrt(metrics.mean_squared_error(valid_y, y_pred)))"
      ],
      "metadata": {
        "colab": {
          "base_uri": "https://localhost:8080/"
        },
        "id": "ugq62S5Q1ODh",
        "outputId": "6e93f20e-20eb-47a1-a1de-a46df124a3c4"
      },
      "execution_count": null,
      "outputs": [
        {
          "output_type": "stream",
          "name": "stdout",
          "text": [
            "Confusion Matrix:\n",
            "[[4883 1997   97]\n",
            " [ 921 5185   89]\n",
            " [  34   19 3594]]\n",
            "Multi-label Confusion Matrix:\n",
            "[[[ 8887   955]\n",
            "  [ 2094  4883]]\n",
            "\n",
            " [[ 8608  2016]\n",
            "  [ 1010  5185]]\n",
            "\n",
            " [[12986   186]\n",
            "  [   53  3594]]]\n",
            "Classification Report:\n",
            "              precision    recall  f1-score   support\n",
            "\n",
            "           1       0.84      0.70      0.76      6977\n",
            "           2       0.72      0.84      0.77      6195\n",
            "           3       0.95      0.99      0.97      3647\n",
            "\n",
            "    accuracy                           0.81     16819\n",
            "   macro avg       0.84      0.84      0.83     16819\n",
            "weighted avg       0.82      0.81      0.81     16819\n",
            "\n",
            "Accuracy: 0.8122956180510137\n",
            "Mean Absolute Error: 0.19549319222308104\n",
            "Mean Squared Error: 0.2110708127712706\n",
            "Root Mean Squared Error: 0.4594244364106796\n",
            "R-squared Score: 0.643742127355236\n"
          ]
        }
      ]
    }
  ],
  "metadata": {
    "colab": {
      "name": "DaisyJohannaUy_Capstone_Model",
      "provenance": []
    },
    "kernelspec": {
      "display_name": "Python 3",
      "name": "python3"
    },
    "language_info": {
      "name": "python"
    },
    "accelerator": "GPU",
    "gpuClass": "standard"
  },
  "nbformat": 4,
  "nbformat_minor": 0
}